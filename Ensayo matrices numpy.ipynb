{
 "cells": [
  {
   "cell_type": "code",
   "execution_count": 1,
   "metadata": {
    "collapsed": false
   },
   "outputs": [
    {
     "name": "stdout",
     "output_type": "stream",
     "text": [
      "Populating the interactive namespace from numpy and matplotlib\n"
     ]
    }
   ],
   "source": [
    "# -*- coding: utf-8 -*-\n",
    "%pylab inline\n",
    "\n",
    "# llama a los módulos\n",
    "\n",
    "import numpy as np\n",
    "import matplotlib.pyplot as plt"
   ]
  },
  {
   "cell_type": "code",
   "execution_count": 2,
   "metadata": {
    "collapsed": false
   },
   "outputs": [],
   "source": [
    "# Crea función para un mes de 21 días hábiles\n",
    "\n",
    "def simula(la,mu,n_agentes,saldo_inicial=60):\n",
    "    \n",
    "    target_saldo_final=round(6*la,0)\n",
    "    \n",
    "    M=np.zeros((22,5),dtype=float)\n",
    "    saldo_final=[]\n",
    "    mu=float(mu*n_agentes)\n",
    "\n",
    "    for j in range(10000):\n",
    "        inputs=np.random.poisson(la,21)\n",
    "        outputs=np.random.poisson(mu,21)\n",
    "\n",
    "        M[0,4]=saldo_inicial\n",
    "        M[:,0]=range(22)\n",
    "        M[1:,1]=inputs\n",
    "        M[1:,2]=outputs    \n",
    "\n",
    "        for j in range(1,M.shape[0],1):\n",
    "            M[j,3]=min(M[j,1]+M[j-1,4],M[j,2])\n",
    "            M[j,4]=M[j-1,4]+M[j,1]-M[j,3]\n",
    "\n",
    "        saldo_final_iter=M[21,4]\n",
    "        saldo_final.append(saldo_final_iter)\n",
    "\n",
    "\n",
    "    \n",
    "    #plt.hist(saldo_final,bins=10,alpha=0.5, color='green')\n",
    "    #plt.show()\n",
    "    \n",
    "    p=np.sum([s<target_saldo_final for s in saldo_final])/float(len(saldo_final))\n",
    "    c=np.mean(saldo_final)\n",
    "    \n",
    "    return {'Probabilidad de cumplir':\"{:.1%}\".format(round(p,3)), 'Requerimientos vencidos promedio': round(float(c/6),0)}"
   ]
  },
  {
   "cell_type": "code",
   "execution_count": 3,
   "metadata": {
    "collapsed": false
   },
   "outputs": [
    {
     "data": {
      "text/plain": [
       "{'Probabilidad de cumplir': '10.7%', 'Requerimientos vencidos promedio': 14.0}"
      ]
     },
     "execution_count": 3,
     "metadata": {},
     "output_type": "execute_result"
    }
   ],
   "source": [
    "simula(10.2,4.5,2)"
   ]
  },
  {
   "cell_type": "code",
   "execution_count": 99,
   "metadata": {
    "collapsed": true
   },
   "outputs": [],
   "source": [
    "?np.percentile"
   ]
  },
  {
   "cell_type": "code",
   "execution_count": null,
   "metadata": {
    "collapsed": true
   },
   "outputs": [],
   "source": []
  }
 ],
 "metadata": {
  "kernelspec": {
   "display_name": "Python 2",
   "language": "python",
   "name": "python2"
  },
  "language_info": {
   "codemirror_mode": {
    "name": "ipython",
    "version": 2
   },
   "file_extension": ".py",
   "mimetype": "text/x-python",
   "name": "python",
   "nbconvert_exporter": "python",
   "pygments_lexer": "ipython2",
   "version": "2.7.13"
  }
 },
 "nbformat": 4,
 "nbformat_minor": 2
}
