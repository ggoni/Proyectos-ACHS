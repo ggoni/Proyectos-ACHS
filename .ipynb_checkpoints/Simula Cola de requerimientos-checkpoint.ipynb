{
 "cells": [
  {
   "cell_type": "code",
   "execution_count": 16,
   "metadata": {
    "collapsed": true
   },
   "outputs": [],
   "source": [
    "#importa módulos\n",
    "import pandas as pd\n",
    "import numpy as np\n",
    "import matplotlib.pyplot as plt\n"
   ]
  },
  {
   "cell_type": "code",
   "execution_count": 17,
   "metadata": {
    "collapsed": true
   },
   "outputs": [],
   "source": [
    "#PARÁMETROS GLOBALES\n",
    "\n",
    "#número de requerimientos que llegan\n",
    "la=10.2\n",
    "\n",
    "#x representa los numeros de agentes a evaluar\n",
    "x=[2,3,4]\n",
    "\n",
    "#y representa las productividades a evaluar\n",
    "y=[4.5,5.1,5.5]"
   ]
  },
  {
   "cell_type": "code",
   "execution_count": 18,
   "metadata": {
    "collapsed": false
   },
   "outputs": [],
   "source": [
    "# Función de simulación\n",
    "def indicadores(n_agentes,servidos_dia_por_agente,saldo_inicial=60):\n",
    "    \n",
    "    target_saldo_final=round(6*la,0)\n",
    "    mu=float(n_agentes*servidos_dia_por_agente)\n",
    "    saldo_final=[]\n",
    "    \n",
    "     #Se considera un mes simulado de 21 días hábiles\n",
    "    #10000 simulaciones de un mes tipo\n",
    "\n",
    "    simulaMes=pd.DataFrame(columns=['dia','ingresados','servidos_teor','servidos_real','saldo'],\n",
    "                           index=range(21))\n",
    "    \n",
    "    \n",
    "    for j in range(10):\n",
    "        simulaMes.dia[0]=1\n",
    "        simulaMes.ingresados[0]=np.random.poisson(la)\n",
    "        simulaMes.servidos_teor[0]=np.random.poisson(mu)\n",
    "        simulaMes.servidos_real[0]=min(simulaMes.servidos_teor[0],saldo_inicial+simulaMes.ingresados[0])\n",
    "        simulaMes.saldo[0]=saldo_inicial+simulaMes.ingresados[0]-simulaMes.servidos_real[0]\n",
    "\n",
    "        for i in range(1,21):\n",
    "            simulaMes.dia[i]=i+1\n",
    "            simulaMes.ingresados[i]=np.random.poisson(la)\n",
    "            simulaMes.servidos_teor[i]=np.random.poisson(mu)\n",
    "            simulaMes.servidos_real[i]=min(simulaMes.servidos_teor[i],simulaMes.ingresados[i]+simulaMes.saldo[i-1])\n",
    "            simulaMes.saldo[i]=simulaMes.saldo[i-1]+simulaMes.ingresados[i]-simulaMes.servidos_real[i]\n",
    "\n",
    "        saldo_final.append(simulaMes.saldo[20])\n",
    "        \n",
    "    p=np.sum([s<target_saldo_final for s in saldo_final])/float(len(saldo_final))\n",
    "    \n",
    "    # El promedio arroja una estimación demasiado conservadora para una variable crítica\n",
    "    c=np.percentile(saldo_final,50)\n",
    "   \n",
    "    return {'Probabilidad':p,'Largo':round(c,0)}"
   ]
  },
  {
   "cell_type": "code",
   "execution_count": 19,
   "metadata": {
    "collapsed": false
   },
   "outputs": [],
   "source": [
    "#Crea dataframes con los resultados para cada combinación\n",
    "\n",
    "simuls=pd.DataFrame(columns=['Agentes','ReqsPorAgente',\n",
    "                                   'SaldoRiesgo','Probabilidad'],index=range(int(len(x)*len(y))))\n",
    "\n",
    "\n",
    "i=0\n",
    "for elemX in x:\n",
    "    for elemY in y:\n",
    "        simuls.Agentes[i]=elemX\n",
    "        simuls.ReqsPorAgente[i]=elemY\n",
    "        simuls.SaldoRiesgo[i]=round(float(indicadores(elemX,elemY)['Largo']/6),0)\n",
    "        simuls.Probabilidad[i]=indicadores(elemX,elemY)['Probabilidad']\n",
    "        i=i+1"
   ]
  },
  {
   "cell_type": "code",
   "execution_count": 20,
   "metadata": {
    "collapsed": false
   },
   "outputs": [
    {
     "data": {
      "text/plain": [
       "{'Largo': 118.0, 'Probabilidad': 0.0}"
      ]
     },
     "execution_count": 20,
     "metadata": {},
     "output_type": "execute_result"
    }
   ],
   "source": [
    "#Testea un caso\n",
    "indicadores(2,4)"
   ]
  },
  {
   "cell_type": "code",
   "execution_count": 21,
   "metadata": {
    "collapsed": false
   },
   "outputs": [
    {
     "data": {
      "text/html": [
       "<div>\n",
       "<table border=\"1\" class=\"dataframe\">\n",
       "  <thead>\n",
       "    <tr style=\"text-align: right;\">\n",
       "      <th></th>\n",
       "      <th>Agentes</th>\n",
       "      <th>ReqsPorAgente</th>\n",
       "      <th>SaldoRiesgo</th>\n",
       "      <th>Probabilidad</th>\n",
       "    </tr>\n",
       "  </thead>\n",
       "  <tbody>\n",
       "    <tr>\n",
       "      <th>0</th>\n",
       "      <td>2</td>\n",
       "      <td>4.5</td>\n",
       "      <td>14</td>\n",
       "      <td>0</td>\n",
       "    </tr>\n",
       "    <tr>\n",
       "      <th>1</th>\n",
       "      <td>2</td>\n",
       "      <td>5.1</td>\n",
       "      <td>12</td>\n",
       "      <td>0.7</td>\n",
       "    </tr>\n",
       "    <tr>\n",
       "      <th>2</th>\n",
       "      <td>2</td>\n",
       "      <td>5.5</td>\n",
       "      <td>7</td>\n",
       "      <td>0.8</td>\n",
       "    </tr>\n",
       "    <tr>\n",
       "      <th>3</th>\n",
       "      <td>3</td>\n",
       "      <td>4.5</td>\n",
       "      <td>0</td>\n",
       "      <td>1</td>\n",
       "    </tr>\n",
       "    <tr>\n",
       "      <th>4</th>\n",
       "      <td>3</td>\n",
       "      <td>5.1</td>\n",
       "      <td>0</td>\n",
       "      <td>1</td>\n",
       "    </tr>\n",
       "    <tr>\n",
       "      <th>5</th>\n",
       "      <td>3</td>\n",
       "      <td>5.5</td>\n",
       "      <td>0</td>\n",
       "      <td>1</td>\n",
       "    </tr>\n",
       "    <tr>\n",
       "      <th>6</th>\n",
       "      <td>4</td>\n",
       "      <td>4.5</td>\n",
       "      <td>0</td>\n",
       "      <td>1</td>\n",
       "    </tr>\n",
       "    <tr>\n",
       "      <th>7</th>\n",
       "      <td>4</td>\n",
       "      <td>5.1</td>\n",
       "      <td>0</td>\n",
       "      <td>1</td>\n",
       "    </tr>\n",
       "    <tr>\n",
       "      <th>8</th>\n",
       "      <td>4</td>\n",
       "      <td>5.5</td>\n",
       "      <td>0</td>\n",
       "      <td>1</td>\n",
       "    </tr>\n",
       "  </tbody>\n",
       "</table>\n",
       "</div>"
      ],
      "text/plain": [
       "  Agentes ReqsPorAgente SaldoRiesgo Probabilidad\n",
       "0       2           4.5          14            0\n",
       "1       2           5.1          12          0.7\n",
       "2       2           5.5           7          0.8\n",
       "3       3           4.5           0            1\n",
       "4       3           5.1           0            1\n",
       "5       3           5.5           0            1\n",
       "6       4           4.5           0            1\n",
       "7       4           5.1           0            1\n",
       "8       4           5.5           0            1"
      ]
     },
     "execution_count": 21,
     "metadata": {},
     "output_type": "execute_result"
    }
   ],
   "source": [
    "#imprime dataframe con resultados\n",
    "simuls"
   ]
  },
  {
   "cell_type": "code",
   "execution_count": null,
   "metadata": {
    "collapsed": false
   },
   "outputs": [],
   "source": [
    "x=list(np.random.poisson(la,1000))\n",
    "plt.hist(x,bins=10,alpha=0.5, color='green')\n",
    "plt.show()"
   ]
  },
  {
   "cell_type": "code",
   "execution_count": 15,
   "metadata": {
    "collapsed": false
   },
   "outputs": [
    {
     "name": "stdout",
     "output_type": "stream",
     "text": [
      "[115, 84, 76, 61, 84, 77, 80, 66, 88, 18]\n"
     ]
    },
    {
     "data": {
      "text/plain": [
       "{'Largo': 79.0, 'Probabilidad': 0.10000000000000001}"
      ]
     },
     "execution_count": 15,
     "metadata": {},
     "output_type": "execute_result"
    }
   ],
   "source": [
    "indicadores(2,5)"
   ]
  },
  {
   "cell_type": "code",
   "execution_count": 9,
   "metadata": {
    "collapsed": false
   },
   "outputs": [
    {
     "ename": "NameError",
     "evalue": "name 'saldo_final' is not defined",
     "output_type": "error",
     "traceback": [
      "\u001b[0;31m---------------------------------------------------------------------------\u001b[0m",
      "\u001b[0;31mNameError\u001b[0m                                 Traceback (most recent call last)",
      "\u001b[0;32m<ipython-input-9-97ec9689eca8>\u001b[0m in \u001b[0;36m<module>\u001b[0;34m()\u001b[0m\n\u001b[0;32m----> 1\u001b[0;31m \u001b[0msaldo_final\u001b[0m\u001b[0;34m\u001b[0m\u001b[0m\n\u001b[0m",
      "\u001b[0;31mNameError\u001b[0m: name 'saldo_final' is not defined"
     ]
    }
   ],
   "source": []
  },
  {
   "cell_type": "code",
   "execution_count": null,
   "metadata": {
    "collapsed": true
   },
   "outputs": [],
   "source": []
  }
 ],
 "metadata": {
  "anaconda-cloud": {},
  "kernelspec": {
   "display_name": "Python [conda root]",
   "language": "python",
   "name": "conda-root-py"
  },
  "language_info": {
   "codemirror_mode": {
    "name": "ipython",
    "version": 2
   },
   "file_extension": ".py",
   "mimetype": "text/x-python",
   "name": "python",
   "nbconvert_exporter": "python",
   "pygments_lexer": "ipython2",
   "version": "2.7.13"
  }
 },
 "nbformat": 4,
 "nbformat_minor": 2
}
