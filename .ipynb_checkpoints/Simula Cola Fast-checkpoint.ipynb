{
 "cells": [
  {
   "cell_type": "code",
   "execution_count": 1,
   "metadata": {
    "collapsed": false,
    "nbpresent": {
     "id": "c689b34b-7da5-413e-b8bd-bb6076a5ef39"
    }
   },
   "outputs": [
    {
     "name": "stdout",
     "output_type": "stream",
     "text": [
      "Populating the interactive namespace from numpy and matplotlib\n"
     ]
    }
   ],
   "source": [
    "# -*- coding: utf-8 -*-\n",
    "%pylab inline\n",
    "#importa módulos\n",
    "import pandas as pd\n",
    "import numpy as np\n",
    "import matplotlib.pyplot as plt\n"
   ]
  },
  {
   "cell_type": "code",
   "execution_count": 2,
   "metadata": {
    "collapsed": true,
    "nbpresent": {
     "id": "0401699e-6ae3-432b-8056-9b7f0c56fd82"
    }
   },
   "outputs": [],
   "source": [
    "#PARÁMETROS GLOBALES\n",
    "\n",
    "#número de requerimientos que llegan\n",
    "la=10.2\n",
    "\n",
    "#x representa los numeros de agentes a evaluar\n",
    "x=[2,3,4]\n",
    "\n",
    "#y representa las productividades a evaluar\n",
    "y=[4.5,5.1,5.5]\n"
   ]
  },
  {
   "cell_type": "code",
   "execution_count": 3,
   "metadata": {
    "collapsed": false,
    "nbpresent": {
     "id": "f2c0e47f-8aaf-4a44-b66a-ff8b851658f2"
    }
   },
   "outputs": [],
   "source": [
    "# Función de simulación\n",
    "def indicadores(n_agentes,servidos_dia_por_agente,saldo_inicial=60):\n",
    "    \n",
    "    target_saldo_final=round(6*la,0)\n",
    "    mu=float(n_agentes*servidos_dia_por_agente)\n",
    "    saldo_final=[]\n",
    "    \n",
    "     #Se considera un mes simulado de 21 días hábiles\n",
    "    #10000 simulaciones de un mes tipo\n",
    "\n",
    "    simulaMes=pd.DataFrame(columns=['dia','ingresados','servidos_teor','servidos_real','saldo'],\n",
    "                           index=range(21))\n",
    "    \n",
    "    \n",
    "    for j in range(1000):\n",
    "        simulaMes.dia[0]=1\n",
    "        simulaMes.ingresados[0]=np.random.poisson(la)\n",
    "        simulaMes.servidos_teor[0]=np.random.poisson(mu)\n",
    "        simulaMes.servidos_real[0]=min(simulaMes.servidos_teor[0],saldo_inicial+simulaMes.ingresados[0])\n",
    "        simulaMes.saldo[0]=saldo_inicial+simulaMes.ingresados[0]-simulaMes.servidos_real[0]\n",
    "\n",
    "        for i in range(1,21):\n",
    "            simulaMes.dia[i]=i+1\n",
    "            simulaMes.ingresados[i]=np.random.poisson(la)\n",
    "            simulaMes.servidos_teor[i]=np.random.poisson(mu)\n",
    "            simulaMes.servidos_real[i]=min(simulaMes.servidos_teor[i],simulaMes.ingresados[i]+simulaMes.saldo[i-1])\n",
    "            simulaMes.saldo[i]=simulaMes.saldo[i-1]+simulaMes.ingresados[i]-simulaMes.servidos_real[i]\n",
    "\n",
    "        saldo_final.append(simulaMes.saldo[20])\n",
    "        \n",
    "    p=np.sum([s<target_saldo_final for s in saldo_final])/float(len(saldo_final))\n",
    "    \n",
    "    # El promedio arroja una estimación demasiado conservadora para una variable crítica\n",
    "    c=np.mean(saldo_final)\n",
    "   \n",
    "    return {'Probabilidad':p,'Largo':round(c,0)}"
   ]
  },
  {
   "cell_type": "code",
   "execution_count": 4,
   "metadata": {
    "collapsed": false,
    "nbpresent": {
     "id": "5d09a3d5-d038-4488-b4ed-60334ebc5c7d"
    }
   },
   "outputs": [],
   "source": [
    "#Crea dataframes con los resultados para cada combinación\n",
    "\n",
    "simuls=pd.DataFrame(columns=['Agentes','ReqsPorAgente',\n",
    "                                   'SaldoRiesgo','Probabilidad'],index=range(int(len(x)*len(y))))\n",
    "\n",
    "\n",
    "i=0\n",
    "for elemX in x:\n",
    "    for elemY in y:\n",
    "        simuls.Agentes[i]=elemX\n",
    "        simuls.ReqsPorAgente[i]=elemY\n",
    "        simuls.SaldoRiesgo[i]=round(float(indicadores(elemX,elemY)['Largo']/6),0)\n",
    "        simuls.Probabilidad[i]=indicadores(elemX,elemY)['Probabilidad']\n",
    "        i=i+1"
   ]
  },
  {
   "cell_type": "code",
   "execution_count": 5,
   "metadata": {
    "collapsed": false,
    "nbpresent": {
     "id": "b4e1967f-823e-4f37-8056-63b7c075427f"
    }
   },
   "outputs": [
    {
     "data": {
      "text/plain": [
       "{'Largo': 105.0, 'Probabilidad': 0.012}"
      ]
     },
     "execution_count": 5,
     "metadata": {},
     "output_type": "execute_result"
    }
   ],
   "source": [
    "#Testea un caso\n",
    "indicadores(2,4)"
   ]
  },
  {
   "cell_type": "code",
   "execution_count": 6,
   "metadata": {
    "collapsed": false,
    "nbpresent": {
     "id": "3a546153-7fc7-4054-b178-c30d7b37ab62"
    }
   },
   "outputs": [
    {
     "data": {
      "text/html": [
       "<div>\n",
       "<table border=\"1\" class=\"dataframe\">\n",
       "  <thead>\n",
       "    <tr style=\"text-align: right;\">\n",
       "      <th></th>\n",
       "      <th>Agentes</th>\n",
       "      <th>ReqsPorAgente</th>\n",
       "      <th>SaldoRiesgo</th>\n",
       "      <th>Probabilidad</th>\n",
       "    </tr>\n",
       "  </thead>\n",
       "  <tbody>\n",
       "    <tr>\n",
       "      <th>0</th>\n",
       "      <td>2</td>\n",
       "      <td>4.5</td>\n",
       "      <td>14</td>\n",
       "      <td>0.111</td>\n",
       "    </tr>\n",
       "    <tr>\n",
       "      <th>1</th>\n",
       "      <td>2</td>\n",
       "      <td>5.1</td>\n",
       "      <td>10</td>\n",
       "      <td>0.507</td>\n",
       "    </tr>\n",
       "    <tr>\n",
       "      <th>2</th>\n",
       "      <td>2</td>\n",
       "      <td>5.5</td>\n",
       "      <td>7</td>\n",
       "      <td>0.806</td>\n",
       "    </tr>\n",
       "    <tr>\n",
       "      <th>3</th>\n",
       "      <td>3</td>\n",
       "      <td>4.5</td>\n",
       "      <td>1</td>\n",
       "      <td>1</td>\n",
       "    </tr>\n",
       "    <tr>\n",
       "      <th>4</th>\n",
       "      <td>3</td>\n",
       "      <td>5.1</td>\n",
       "      <td>0</td>\n",
       "      <td>1</td>\n",
       "    </tr>\n",
       "    <tr>\n",
       "      <th>5</th>\n",
       "      <td>3</td>\n",
       "      <td>5.5</td>\n",
       "      <td>0</td>\n",
       "      <td>1</td>\n",
       "    </tr>\n",
       "    <tr>\n",
       "      <th>6</th>\n",
       "      <td>4</td>\n",
       "      <td>4.5</td>\n",
       "      <td>0</td>\n",
       "      <td>1</td>\n",
       "    </tr>\n",
       "    <tr>\n",
       "      <th>7</th>\n",
       "      <td>4</td>\n",
       "      <td>5.1</td>\n",
       "      <td>0</td>\n",
       "      <td>1</td>\n",
       "    </tr>\n",
       "    <tr>\n",
       "      <th>8</th>\n",
       "      <td>4</td>\n",
       "      <td>5.5</td>\n",
       "      <td>0</td>\n",
       "      <td>1</td>\n",
       "    </tr>\n",
       "  </tbody>\n",
       "</table>\n",
       "</div>"
      ],
      "text/plain": [
       "  Agentes ReqsPorAgente SaldoRiesgo Probabilidad\n",
       "0       2           4.5          14        0.111\n",
       "1       2           5.1          10        0.507\n",
       "2       2           5.5           7        0.806\n",
       "3       3           4.5           1            1\n",
       "4       3           5.1           0            1\n",
       "5       3           5.5           0            1\n",
       "6       4           4.5           0            1\n",
       "7       4           5.1           0            1\n",
       "8       4           5.5           0            1"
      ]
     },
     "execution_count": 6,
     "metadata": {},
     "output_type": "execute_result"
    }
   ],
   "source": [
    "#imprime dataframe con resultados\n",
    "simuls"
   ]
  },
  {
   "cell_type": "code",
   "execution_count": 7,
   "metadata": {
    "collapsed": false,
    "nbpresent": {
     "id": "8969038a-29fb-4f8d-a0b8-d01750b1c1ce"
    }
   },
   "outputs": [
    {
     "data": {
      "image/png": "[encoded data removed]",
      "text/plain": [
       "<matplotlib.figure.Figure at 0x10f7bf510>"
      ]
     },
     "metadata": {},
     "output_type": "display_data"
    }
   ],
   "source": [
    "x=list(np.random.poisson(la,1000))\n",
    "plt.hist(x,bins=10,alpha=0.5, color='green')\n",
    "plt.show()"
   ]
  },
  {
   "cell_type": "code",
   "execution_count": 8,
   "metadata": {
    "collapsed": false,
    "nbpresent": {
     "id": "50883817-82e4-4711-8d53-58d22b9cc3e9"
    }
   },
   "outputs": [
    {
     "data": {
      "text/plain": [
       "{'Largo': 64.0, 'Probabilidad': 0.438}"
      ]
     },
     "execution_count": 8,
     "metadata": {},
     "output_type": "execute_result"
    }
   ],
   "source": [
    "indicadores(2,5)"
   ]
  },
  {
   "cell_type": "code",
   "execution_count": null,
   "metadata": {
    "collapsed": true,
    "nbpresent": {
     "id": "703044e9-8eb2-4a59-8b80-5e0d84e77af8"
    }
   },
   "outputs": [],
   "source": []
  },
  {
   "cell_type": "code",
   "execution_count": null,
   "metadata": {
    "collapsed": true,
    "nbpresent": {
     "id": "6ff44b7c-819d-44b7-b062-bc6cf4105303"
    }
   },
   "outputs": [],
   "source": []
  }
 ],
 "metadata": {
  "anaconda-cloud": {},
  "kernelspec": {
   "display_name": "Python [conda root]",
   "language": "python",
   "name": "conda-root-py"
  },
  "language_info": {
   "codemirror_mode": {
    "name": "ipython",
    "version": 2
   },
   "file_extension": ".py",
   "mimetype": "text/x-python",
   "name": "python",
   "nbconvert_exporter": "python",
   "pygments_lexer": "ipython2",
   "version": "2.7.13"
  },
  "nbpresent": {
   "slides": {
    "19f1abc7-04e4-4ba3-8db1-9c76c9177fd1": {
     "id": "19f1abc7-04e4-4ba3-8db1-9c76c9177fd1",
     "prev": "30e4da1e-15f6-4654-ba6d-f495dd71e741",
     "regions": {
      "d453e011-8989-4404-8f55-6ec337a51445": {
       "attrs": {
        "height": 0.8,
        "width": 0.8,
        "x": 0.1,
        "y": 0.1
       },
       "content": {
        "cell": "50883817-82e4-4711-8d53-58d22b9cc3e9",
        "part": "whole"
       },
       "id": "d453e011-8989-4404-8f55-6ec337a51445"
      }
     }
    },
    "251c2ff4-ac28-44fe-9411-1c2d1034b800": {
     "id": "251c2ff4-ac28-44fe-9411-1c2d1034b800",
     "layout": "treemap",
     "prev": "b92c072a-25a0-412e-af34-529d16f03765",
     "regions": {
      "d031d760-6689-4a78-a9ab-bdd80f8d428f": {
       "attrs": {
        "height": 1,
        "treemap:weight": 1,
        "width": 1,
        "x": 0,
        "y": 0
       },
       "content": {
        "cell": "0401699e-6ae3-432b-8056-9b7f0c56fd82",
        "part": "whole"
       },
       "id": "d031d760-6689-4a78-a9ab-bdd80f8d428f"
      }
     }
    },
    "284fba0b-5207-45eb-ac3f-d6157dc056fa": {
     "id": "284fba0b-5207-45eb-ac3f-d6157dc056fa",
     "prev": "fe7f8c4e-f78a-4738-9a98-d8f1e854e891",
     "regions": {
      "1fee43aa-0f96-4958-a956-78e6c19a9b96": {
       "attrs": {
        "height": 0.8,
        "width": 0.8,
        "x": 0.1,
        "y": 0.1
       },
       "content": {
        "cell": "b4e1967f-823e-4f37-8056-63b7c075427f",
        "part": "whole"
       },
       "id": "1fee43aa-0f96-4958-a956-78e6c19a9b96"
      }
     }
    },
    "30e4da1e-15f6-4654-ba6d-f495dd71e741": {
     "id": "30e4da1e-15f6-4654-ba6d-f495dd71e741",
     "prev": "f70dad66-dd67-482e-aa79-b5e68e26eb5d",
     "regions": {
      "ea38477a-2a3f-407a-8ab7-019f1fce2c58": {
       "attrs": {
        "height": 0.8,
        "width": 0.8,
        "x": 0.1,
        "y": 0.1
       },
       "content": {
        "cell": "8969038a-29fb-4f8d-a0b8-d01750b1c1ce",
        "part": "whole"
       },
       "id": "ea38477a-2a3f-407a-8ab7-019f1fce2c58"
      }
     }
    },
    "64c78817-f5b2-487c-9c60-9bd142a47603": {
     "id": "64c78817-f5b2-487c-9c60-9bd142a47603",
     "prev": "251c2ff4-ac28-44fe-9411-1c2d1034b800",
     "regions": {
      "38381b9e-c8a1-4d0a-aad5-74b6db32a59e": {
       "attrs": {
        "height": 0.8,
        "width": 0.8,
        "x": 0.1,
        "y": 0.1
       },
       "content": {
        "cell": "f2c0e47f-8aaf-4a44-b66a-ff8b851658f2",
        "part": "whole"
       },
       "id": "38381b9e-c8a1-4d0a-aad5-74b6db32a59e"
      }
     }
    },
    "862d7c56-643b-40fa-9186-0eaad3223476": {
     "id": "862d7c56-643b-40fa-9186-0eaad3223476",
     "prev": "19f1abc7-04e4-4ba3-8db1-9c76c9177fd1",
     "regions": {
      "5181708c-1110-4f4e-864e-23cf708f6239": {
       "attrs": {
        "height": 0.8,
        "width": 0.8,
        "x": 0.1,
        "y": 0.1
       },
       "content": {
        "cell": "703044e9-8eb2-4a59-8b80-5e0d84e77af8",
        "part": "whole"
       },
       "id": "5181708c-1110-4f4e-864e-23cf708f6239"
      }
     }
    },
    "b92c072a-25a0-412e-af34-529d16f03765": {
     "id": "b92c072a-25a0-412e-af34-529d16f03765",
     "prev": null,
     "regions": {
      "b483cbd5-cfaa-4989-913a-b704b4fca764": {
       "attrs": {
        "height": 0.8,
        "width": 0.8,
        "x": 0.1,
        "y": 0.1
       },
       "content": {
        "cell": "c689b34b-7da5-413e-b8bd-bb6076a5ef39",
        "part": "whole"
       },
       "id": "b483cbd5-cfaa-4989-913a-b704b4fca764"
      }
     }
    },
    "e64aa1f7-2a51-4dfb-a39f-d3f9a717d3fb": {
     "id": "e64aa1f7-2a51-4dfb-a39f-d3f9a717d3fb",
     "prev": "862d7c56-643b-40fa-9186-0eaad3223476",
     "regions": {
      "d1a1a0ac-f75a-464c-927a-7d10e5348bf1": {
       "attrs": {
        "height": 0.8,
        "width": 0.8,
        "x": 0.1,
        "y": 0.1
       },
       "content": {
        "cell": "6ff44b7c-819d-44b7-b062-bc6cf4105303",
        "part": "whole"
       },
       "id": "d1a1a0ac-f75a-464c-927a-7d10e5348bf1"
      }
     }
    },
    "f70dad66-dd67-482e-aa79-b5e68e26eb5d": {
     "id": "f70dad66-dd67-482e-aa79-b5e68e26eb5d",
     "prev": "284fba0b-5207-45eb-ac3f-d6157dc056fa",
     "regions": {
      "e297ea2a-7768-4168-b4a6-760631839e34": {
       "attrs": {
        "height": 0.8,
        "width": 0.8,
        "x": 0.1,
        "y": 0.1
       },
       "content": {
        "cell": "3a546153-7fc7-4054-b178-c30d7b37ab62",
        "part": "whole"
       },
       "id": "e297ea2a-7768-4168-b4a6-760631839e34"
      }
     }
    },
    "fe7f8c4e-f78a-4738-9a98-d8f1e854e891": {
     "id": "fe7f8c4e-f78a-4738-9a98-d8f1e854e891",
     "prev": "64c78817-f5b2-487c-9c60-9bd142a47603",
     "regions": {
      "90f9ea6b-057e-4775-85de-62e40514b469": {
       "attrs": {
        "height": 0.8,
        "width": 0.8,
        "x": 0.1,
        "y": 0.1
       },
       "content": {
        "cell": "5d09a3d5-d038-4488-b4ed-60334ebc5c7d",
        "part": "whole"
       },
       "id": "90f9ea6b-057e-4775-85de-62e40514b469"
      }
     }
    }
   },
   "themes": {}
  }
 },
 "nbformat": 4,
 "nbformat_minor": 2
}
