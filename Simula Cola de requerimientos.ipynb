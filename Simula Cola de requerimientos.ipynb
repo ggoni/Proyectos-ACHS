{
 "cells": [
  {
   "cell_type": "code",
   "execution_count": 2,
   "metadata": {
    "collapsed": true
   },
   "outputs": [],
   "source": [
    "import pandas as pd\n",
    "import numpy as np\n",
    "import matplotlib.pyplot as plt\n",
    "\n",
    "la=10.2"
   ]
  },
  {
   "cell_type": "code",
   "execution_count": null,
   "metadata": {
    "collapsed": false
   },
   "outputs": [],
   "source": [
    "# Parámetros de servicio\n",
    "def indicadores(n_agentes,servidos_dia_por_agente,saldo_inicial=60):\n",
    "    \n",
    "    target_saldo_final=round(6*la,0)\n",
    "    mu=float(n_agentes*servidos_dia_por_agente)\n",
    "    saldo_final=[]\n",
    "    \n",
    "     #Se considera un mes simulado de 21 días hábiles\n",
    "    #10000 simulaciones de un mes tipo\n",
    "\n",
    "    simulaMes=pd.DataFrame(columns=['dia','ingresados','servidos_teor','servidos_real','saldo'],\n",
    "                           index=range(21))\n",
    "    \n",
    "    \n",
    "    for j in range(5000):\n",
    "        simulaMes.dia[0]=1\n",
    "        simulaMes.ingresados[0]=np.random.poisson(la)\n",
    "        simulaMes.servidos_teor[0]=np.random.poisson(mu)\n",
    "        simulaMes.servidos_real[0]=min(simulaMes.servidos_teor[0],saldo_inicial+simulaMes.ingresados[0])\n",
    "        simulaMes.saldo[0]=saldo_inicial+simulaMes.ingresados[0]-simulaMes.servidos_real[0]\n",
    "\n",
    "        for i in range(1,21):\n",
    "            simulaMes.dia[i]=i+1\n",
    "            simulaMes.ingresados[i]=np.random.poisson(la)\n",
    "            simulaMes.servidos_teor[i]=np.random.poisson(mu)\n",
    "            simulaMes.servidos_real[i]=min(simulaMes.servidos_teor[i],simulaMes.ingresados[i]+simulaMes.saldo[i-1])\n",
    "            simulaMes.saldo[i]=simulaMes.saldo[i-1]+simulaMes.ingresados[i]-simulaMes.servidos_real[i]\n",
    "\n",
    "        saldo_final.append(simulaMes.saldo[20])\n",
    "        \n",
    "    p=float(np.sum([s<target_saldo_final for s in saldo_final]))/len(saldo_final)\n",
    "    c=np.percentile(saldo_final,0.5)\n",
    "    \n",
    "    \n",
    "    return {'Probabilidad':round(p,3),'Largo':round(c,0),'saldo':len(saldo_final)}"
   ]
  },
  {
   "cell_type": "code",
   "execution_count": null,
   "metadata": {
    "collapsed": false
   },
   "outputs": [],
   "source": [
    "x=[2,3,4]\n",
    "y=[4,4.5,5]\n",
    "\n",
    "simuls=pd.DataFrame(columns=['Agentes','ReqsPorAgente',\n",
    "                                   'SaldoRiesgo','Probabilidad'],index=range(int(len(x)*len(y))))"
   ]
  },
  {
   "cell_type": "code",
   "execution_count": null,
   "metadata": {
    "collapsed": false
   },
   "outputs": [],
   "source": [
    "i=0\n",
    "for elemX in x:\n",
    "    for elemY in y:\n",
    "        simuls.Agentes[i]=elemX\n",
    "        simuls.ReqsPorAgente[i]=elemY\n",
    "        simuls.SaldoRiesgo[i]=round(float(indicadores(elemX,elemY)['Largo']/6),0)\n",
    "        simuls.Probabilidad[i]=indicadores(elemX,elemY)['Probabilidad']\n",
    "        i=i+1"
   ]
  },
  {
   "cell_type": "code",
   "execution_count": null,
   "metadata": {
    "collapsed": false
   },
   "outputs": [],
   "source": [
    "indicadores(2,4)"
   ]
  },
  {
   "cell_type": "code",
   "execution_count": null,
   "metadata": {
    "collapsed": false
   },
   "outputs": [],
   "source": [
    "simuls"
   ]
  },
  {
   "cell_type": "code",
   "execution_count": 3,
   "metadata": {
    "collapsed": false
   },
   "outputs": [],
   "source": [
    "x=list(np.random.poisson(10.2,1000))\n",
    "y=list(np.random.poisson(12.5,1000))"
   ]
  },
  {
   "cell_type": "code",
   "execution_count": 4,
   "metadata": {
    "collapsed": false
   },
   "outputs": [
    {
     "data": {
      "image/png": "[encoded data removed]",
      "text/plain": [
       "<matplotlib.figure.Figure at 0x11342d0d0>"
      ]
     },
     "metadata": {},
     "output_type": "display_data"
    }
   ],
   "source": [
    "plt.hist(x,bins=10)\n",
    "plt.hist(y,bins=10,alpha=0.5)\n",
    "plt.show()"
   ]
  },
  {
   "cell_type": "code",
   "execution_count": null,
   "metadata": {
    "collapsed": true
   },
   "outputs": [],
   "source": []
  }
 ],
 "metadata": {
  "anaconda-cloud": {},
  "kernelspec": {
   "display_name": "Python [conda root]",
   "language": "python",
   "name": "conda-root-py"
  },
  "language_info": {
   "codemirror_mode": {
    "name": "ipython",
    "version": 2
   },
   "file_extension": ".py",
   "mimetype": "text/x-python",
   "name": "python",
   "nbconvert_exporter": "python",
   "pygments_lexer": "ipython2",
   "version": "2.7.13"
  }
 },
 "nbformat": 4,
 "nbformat_minor": 2
}
