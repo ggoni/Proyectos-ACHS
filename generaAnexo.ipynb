{
 "cells": [
  {
   "cell_type": "code",
   "execution_count": 1,
   "metadata": {
    "collapsed": false
   },
   "outputs": [],
   "source": [
    "# -*- coding: utf-8 -*-\n",
    "\n",
    "\n",
    "# Importa librerías y define variables globales\n",
    "import glob\n",
    "import time\n",
    "import locale\n",
    "import calendar\n",
    "from datetime import datetime\n",
    "import decimal\n",
    "import math\n",
    "import pandas as pd\n",
    "import calendar\n",
    "\n",
    "\n",
    "#Ojo: es clave establecer que el lenguaje local es el español\n",
    "\n",
    "from docx import Document\n",
    "from docx.enum.text import WD_ALIGN_PARAGRAPH\n",
    "from docx.text.run import Font, Run\n",
    "from docx.shared import Inches,Pt\n",
    "\n",
    "locale.setlocale(locale.LC_ALL, 'esp_ESP')\n",
    "\n",
    "dias_en_anno = 365.2425"
   ]
  },
  {
   "cell_type": "code",
   "execution_count": 2,
   "metadata": {
    "collapsed": false
   },
   "outputs": [],
   "source": [
    "# esta funcion mide el tiempo en años que ha pasado entre dos fechas. Trunca al entero más próximo.\n",
    "def dif_fechas(fecha1, fecha2):\n",
    "    a=abs(fecha2-fecha1).days\n",
    "    b=math.trunc(float(a)/dias_en_anno)\n",
    "    return str(b)"
   ]
  },
  {
   "cell_type": "code",
   "execution_count": 3,
   "metadata": {
    "collapsed": true
   },
   "outputs": [],
   "source": [
    "# esta función escribe la fecha en español\n",
    "def texto_fecha(fecha):\n",
    "    texto=str(fecha.day)+' de '+calendar.month_name[fecha.month]+' de '+str(fecha.year)\n",
    "    return texto"
   ]
  },
  {
   "cell_type": "code",
   "execution_count": 4,
   "metadata": {
    "collapsed": true
   },
   "outputs": [],
   "source": [
    "# Acá se edita la ubicación donde están los datos de los futuros anexos\n",
    "archivo_data_anexos='D:\\\\Mis Documentos\\\\12 Python Scripts\\\\Desarrollo Anexos\\\\anexos.xlsx'\n",
    "data_anexos=pd.read_excel(archivo_data_anexos,sheetname='Hoja1')"
   ]
  },
  {
   "cell_type": "code",
   "execution_count": 14,
   "metadata": {
    "collapsed": false
   },
   "outputs": [],
   "source": [
    "hoy=datetime.utcnow()\n",
    "\n",
    "# Llena los distintos anexos. Es importante codificar en utf-8 para asegurar que salga en español\n",
    "\n",
    "for filas in range(len(data_anexos)):\n",
    "    nombre=str(data_anexos['Nombres'].iloc[filas]+' '+data_anexos['Apellidos'].iloc[filas]).encode('utf-8')\n",
    "    fecha_de_nacimiento=data_anexos['fechaNacimiento'].iloc[filas].to_pydatetime()\n",
    "    RUT=str(data_anexos['RUT'].iloc[filas])\n",
    "    estado_civil=str(data_anexos['estadoCivil'].iloc[filas]).encode('utf-8')\n",
    "    nombreCalle=str(data_anexos['CalleDomicilio'].iloc[filas]).encode('utf-8')\n",
    "    numeroCalle=str(data_anexos['numeroDomicilio'].iloc[filas]).encode('utf-8')\n",
    "    nombreComuna=data_anexos['comunaDomicilio'].iloc[filas].encode('utf-8')\n",
    "    fecha_de_contrato=data_anexos['fechaContrato'].iloc[filas].to_pydatetime()\n",
    "    fecha_de_inicio_relacion=data_anexos['fechaEntradaEnVigencia'].iloc[filas].to_pydatetime()\n",
    "    sueldo_base=328544\n",
    "    bono_antiguedad=32768\n",
    "    \n",
    "    \n",
    "    \n",
    "    p1='En Santiago, a '+texto_fecha(hoy)+' entre la ASOCIACIÓN CHILENA DE SEGURIDAD, representada por don ALEXIS ILAN '\\\n",
    "    'FISCHMAN y denominada más adelante \\\"La Asociación\\\" o \\\"El Empleador\\\", ambos domiciliados en Ramón Carnicer 163, '\\\n",
    "    'comuna de Providencia de esta ciudad por una parte, y por la otra don(ña) '+ nombre+', de nacionalidad CHILENA , '\\\n",
    "    'fecha de nacimiento '+texto_fecha(fecha_de_nacimiento)+' , de '+ dif_fechas(fecha_de_nacimiento,hoy)+ ' años de '\\\n",
    "    'edad '+', Cédula Nacional de Identidad Nº '+RUT+ ', estado civil '+ estado_civil+', contratado(a) en esta ciudad, '\\\n",
    "    'con domicilio en calle '+nombreCalle+ ' N° '+numeroCalle+ ' comuna de '+nombreComuna+ ', denominada más adelante '\\\n",
    "    'el Trabajador(a), se ha convenido en la siguiente modificación del contrato individual de trabajo:\\n'\n",
    "    \n",
    "    p2='PRIMERO: Con fecha '+texto_fecha(fecha_de_contrato)+' se suscribió un contrato individual de  trabajo entre el '\\\n",
    "    'Empleador y el Trabajador(a) '+nombre+' el cual comenzó a regir entre las partes con '\\\n",
    "    'fecha ' +texto_fecha(fecha_de_inicio_relacion)+'.\\n'\n",
    "    \n",
    "    p3='SEGUNDA: Las partes vienen a sustituir el(los) Artículo(s) CUARTO del contrato mencionado en la cláusula primera de '\\\n",
    "    'este documento, por motivo de Nuevas condiciones contractuales, reemplazándose por el(los) siguiente(s):\\n'\n",
    "    \n",
    "    p4='CUARTO: El empleador se compromete a remunerar al  Trabajador con un sueldo base  de '+ str(sueldo_base) + ' pesos '\\\n",
    "    'mensuales, en moneda nacional, más un 25% por concepto de Asignación de Estímulo mensual y Bono de Antigüedad de '+ str(bono_antiguedad)+'.\\n'\n",
    "  \n",
    "\n",
    "    p5='TERCERA: Este anexo deja subsistente, en todo lo no modificado, el contrato individual de trabajo a que se alude en la '\\\n",
    "    'cláusula primera. El presente instrumento se firma en dos ejemplares de idéntico tenor, quedando uno en poder de cada '\\\n",
    "    'parte, dejándose expresa constancia de que el(la) Trabajador(a) ha recibido su copia al firmar el documento.\\n\\n\\n\\n' \n",
    "\n",
    "    documento=Document()\n",
    "    \n",
    "    documento.add_heading().alignment=WD_ALIGN_PARAGRAPH.CENTER\n",
    "    documento.paragraphs[0].add_run('ANEXO \\n\\n').bold=True\n",
    "    documento.paragraphs[0].alignment=WD_ALIGN_PARAGRAPH.CENTER\n",
    "    documento.paragraphs[0].style='Normal'\n",
    "    \n",
    "    listaPs=[p1,p2,p3,p4,p5]\n",
    "\n",
    "    for texto_parrafo in listaPs:\n",
    "        parrafo=documento.add_paragraph()\n",
    "        if texto_parrafo==p4:\n",
    "            parrafo.add_run(texto_parrafo.decode('UTF-8')).italic = True\n",
    "        else:\n",
    "            parrafo.add_run(texto_parrafo.decode('UTF-8'))\n",
    "        parrafo.alignment=WD_ALIGN_PARAGRAPH.JUSTIFY\n",
    "        parrafo.style='Normal'\n",
    "        \n",
    "    \n",
    "    \n",
    "    documento.paragraphs[4].paragraph_format.left_indent = Pt(36)\n",
    "    \n",
    "    nombre_columnas = (str(nombre), '','pp. ASOCIACIÓN CHILENA DE SEGURIDAD')\n",
    "    \n",
    "    \n",
    "    tabla = documento.add_table(rows=2, cols=len(nombre_columnas))\n",
    "\n",
    "\n",
    "    \n",
    "    for idx, name in enumerate(nombre_columnas):\n",
    "        paragraph=tabla.rows[0].cells[idx].paragraphs[0]\n",
    "        paragraph.alignment=WD_ALIGN_PARAGRAPH.CENTER\n",
    "        \n",
    "        if idx%2==0:\n",
    "            run = paragraph.add_run('__________________________')\n",
    "        \n",
    "        paragraph = tabla.rows[1].cells[idx].paragraphs[0]\n",
    "        paragraph.alignment=WD_ALIGN_PARAGRAPH.CENTER\n",
    "        run = paragraph.add_run(name.decode('UTF-8'))\n",
    "        run.bold = True\n",
    "\n",
    "\n",
    "    documento.save('Anexo_'+RUT+'_'+nombre+'_'+'.docx')\n",
    "    \n"
   ]
  },
  {
   "cell_type": "code",
   "execution_count": null,
   "metadata": {
    "collapsed": true
   },
   "outputs": [],
   "source": []
  },
  {
   "cell_type": "code",
   "execution_count": null,
   "metadata": {
    "collapsed": true
   },
   "outputs": [],
   "source": []
  }
 ],
 "metadata": {
  "kernelspec": {
   "display_name": "Python 2",
   "language": "python",
   "name": "python2"
  },
  "language_info": {
   "codemirror_mode": {
    "name": "ipython",
    "version": 2
   },
   "file_extension": ".py",
   "mimetype": "text/x-python",
   "name": "python",
   "nbconvert_exporter": "python",
   "pygments_lexer": "ipython2",
   "version": "2.7.13"
  }
 },
 "nbformat": 4,
 "nbformat_minor": 2
}
