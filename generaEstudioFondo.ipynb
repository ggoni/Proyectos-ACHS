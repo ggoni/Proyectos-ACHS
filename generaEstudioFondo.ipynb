{
 "cells": [
  {
   "cell_type": "code",
   "execution_count": 1,
   "metadata": {
    "collapsed": false
   },
   "outputs": [
    {
     "name": "stdout",
     "output_type": "stream",
     "text": [
      "Populating the interactive namespace from numpy and matplotlib\n"
     ]
    }
   ],
   "source": [
    "# -*- coding: utf-8 -*-\n",
    "%pylab inline\n",
    "\n",
    "\n",
    "# Importa librerías y define variables globales\n",
    "import glob\n",
    "import time\n",
    "import locale\n",
    "import calendar\n",
    "from datetime import datetime, date\n",
    "import decimal\n",
    "import math\n",
    "import pandas as pd\n",
    "import calendar\n",
    "import numpy as np\n",
    "import matplotlib.pyplot as plt\n",
    "from bokeh.io import output_file, show\n",
    "from bokeh.plotting import figure\n",
    "\n",
    "#Ojo: es clave establecer que el lenguaje local es el español\n",
    "\n",
    "from docx import Document\n",
    "from docx.enum.text import WD_ALIGN_PARAGRAPH\n",
    "from docx.text.run import Font, Run\n",
    "from docx.shared import Inches,Pt\n",
    "\n",
    "#locale.setlocale(locale.LC_ALL, 'esp_ESP')\n",
    "\n",
    "dias_en_anno = 365.2425"
   ]
  },
  {
   "cell_type": "code",
   "execution_count": 2,
   "metadata": {
    "collapsed": true
   },
   "outputs": [],
   "source": [
    "# esta función escribe la fecha en español\n",
    "def texto_fecha(fecha):\n",
    "    texto=str(fecha.day)+' de '+calendar.month_name[fecha.month]+' de '+str(fecha.year)\n",
    "    return texto"
   ]
  },
  {
   "cell_type": "code",
   "execution_count": 3,
   "metadata": {
    "collapsed": true
   },
   "outputs": [],
   "source": [
    "def truncar(entero):\n",
    "    x = int(entero * 1) / 1.0\n",
    "    return x"
   ]
  },
  {
   "cell_type": "code",
   "execution_count": 4,
   "metadata": {
    "collapsed": false
   },
   "outputs": [],
   "source": [
    "def mesesHastaJubilar(genero,edad):\n",
    "    if genero=='Masculino':\n",
    "        meses=round(12*max(65-edad,0),0)\n",
    "    else:\n",
    "        meses=round(12*max(60-edad,0),0)\n",
    "    return meses"
   ]
  },
  {
   "cell_type": "code",
   "execution_count": 5,
   "metadata": {
    "collapsed": false
   },
   "outputs": [],
   "source": [
    "# Acá se edita la ubicación donde están los datos de los futuros anexos\n",
    "data_fondo='/Users/ggoni/Desktop/archivoFondo.xlsx'\n",
    "df=pd.read_excel(data_fondo,sheets=1)\n",
    "df.fechaNacimiento = pd.to_datetime(df.fechaNacimiento)\n",
    "df.fechaContrato=pd.to_datetime(df.fechaContrato)"
   ]
  },
  {
   "cell_type": "code",
   "execution_count": 6,
   "metadata": {
    "collapsed": true
   },
   "outputs": [],
   "source": [
    "listaNombres=list(df.columns)"
   ]
  },
  {
   "cell_type": "code",
   "execution_count": 7,
   "metadata": {
    "collapsed": false
   },
   "outputs": [],
   "source": [
    "listaNombres=listaNombres+['escenario','fechaEscenario']"
   ]
  },
  {
   "cell_type": "code",
   "execution_count": 8,
   "metadata": {
    "collapsed": false
   },
   "outputs": [],
   "source": [
    "annos=list(range(2017,2028,1))\n",
    "fechas=[datetime(anno,5,31) for anno in annos]"
   ]
  },
  {
   "cell_type": "code",
   "execution_count": 9,
   "metadata": {
    "collapsed": false
   },
   "outputs": [],
   "source": [
    "\n",
    "df_c=pd.DataFrame(columns=listaNombres)"
   ]
  },
  {
   "cell_type": "code",
   "execution_count": 10,
   "metadata": {
    "collapsed": false
   },
   "outputs": [],
   "source": [
    "for idFecha,fecha in enumerate(fechas):\n",
    "    df_b=pd.DataFrame(columns=df.columns)\n",
    "    df_b=df_b.append(df)\n",
    "    df_b['escenario']=idFecha\n",
    "    df_b['fechaEscenario']=fecha  \n",
    "    df_c=df_c.append(df_b)"
   ]
  },
  {
   "cell_type": "code",
   "execution_count": 11,
   "metadata": {
    "collapsed": false
   },
   "outputs": [],
   "source": [
    "df_c.RBM=df_c.RBM.apply(round,0)\n",
    "df_c['Edad']=(df_c.fechaEscenario-df_c.fechaNacimiento).astype('timedelta64[D]')/365\n",
    "df_c['Edad_Truncada']=df_c.Edad.apply(truncar)\n",
    "df_c['Antiguedad']=(df_c.fechaEscenario-df_c.fechaContrato).astype('timedelta64[D]')/365\n",
    "df_c.Antiguedad=df_c.Antiguedad.apply(round,0)"
   ]
  },
  {
   "cell_type": "code",
   "execution_count": 12,
   "metadata": {
    "collapsed": false
   },
   "outputs": [],
   "source": [
    "df_c['mesesHastaJubilar']=np.vectorize(mesesHastaJubilar)(df_c.Genero,df_c.Edad)"
   ]
  },
  {
   "cell_type": "code",
   "execution_count": 13,
   "metadata": {
    "collapsed": false
   },
   "outputs": [],
   "source": [
    "df_c['PPA']=df_c.RBM*df_c.mesesHastaJubilar\n",
    "df_c.PPA=df_c.mesesHastaJubilar*df_c.RBM*0.115\n",
    "df_c.loc[df_c['alianza']!='SI','PPA']=0"
   ]
  },
  {
   "cell_type": "code",
   "execution_count": 14,
   "metadata": {
    "collapsed": false
   },
   "outputs": [],
   "source": [
    "#df.loc[df.ID == 103, 'FirstName'] = \"Matt\""
   ]
  },
  {
   "cell_type": "code",
   "execution_count": 15,
   "metadata": {
    "collapsed": false
   },
   "outputs": [],
   "source": [
    "df_c['IAS']=(df_c.Antiguedad+1)*df_c.RBM"
   ]
  },
  {
   "cell_type": "code",
   "execution_count": 16,
   "metadata": {
    "collapsed": false
   },
   "outputs": [],
   "source": [
    "df_c['pagoTotal']=df_c.PPA+df_c.IAS"
   ]
  },
  {
   "cell_type": "code",
   "execution_count": 17,
   "metadata": {
    "collapsed": false
   },
   "outputs": [],
   "source": [
    "tabla=pd.DataFrame(pd.pivot_table(df_c,values='pagoTotal',index=['fechaEscenario'],\n",
    "                                  fill_value=0,aggfunc=np.sum,columns=['Genero']))\n",
    "tabla.index=tabla.index.year\n",
    "tabla.loc[:,['Femenino','Masculino']] = 1./1e6*tabla.loc[:,['Femenino','Masculino']]\n",
    "tabla.Femenino=tabla.Femenino.apply(round,0)\n",
    "tabla.Masculino=tabla.Masculino.apply(round,0)"
   ]
  },
  {
   "cell_type": "code",
   "execution_count": 18,
   "metadata": {
    "collapsed": false
   },
   "outputs": [],
   "source": [
    "df_c.to_excel('archivoFondoTotal.xlsx')"
   ]
  },
  {
   "cell_type": "code",
   "execution_count": 19,
   "metadata": {
    "collapsed": false
   },
   "outputs": [],
   "source": [
    "plot=figure()\n",
    "plot.multi_line([tabla.index,tabla.index],[tabla.Femenino,tabla.Masculino],color=['pink','blue'],line_width=5)\n",
    "show(plot)"
   ]
  },
  {
   "cell_type": "code",
   "execution_count": null,
   "metadata": {
    "collapsed": true
   },
   "outputs": [],
   "source": []
  }
 ],
 "metadata": {
  "kernelspec": {
   "display_name": "Python 2",
   "language": "python",
   "name": "python2"
  },
  "language_info": {
   "codemirror_mode": {
    "name": "ipython",
    "version": 2
   },
   "file_extension": ".py",
   "mimetype": "text/x-python",
   "name": "python",
   "nbconvert_exporter": "python",
   "pygments_lexer": "ipython2",
   "version": "2.7.13"
  }
 },
 "nbformat": 4,
 "nbformat_minor": 2
}
