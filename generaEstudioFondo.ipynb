{
 "cells": [
  {
   "cell_type": "code",
   "execution_count": 1,
   "metadata": {
    "collapsed": false
   },
   "outputs": [
    {
     "name": "stdout",
     "output_type": "stream",
     "text": [
      "Populating the interactive namespace from numpy and matplotlib\n"
     ]
    },
    {
     "data": {
      "text/html": [
       "\n",
       "    <div class=\"bk-root\">\n",
       "        <a href=\"http://bokeh.pydata.org\" target=\"_blank\" class=\"bk-logo bk-logo-small bk-logo-notebook\"></a>\n",
       "        <span id=\"c69d51ba-33b2-482a-8637-71a4ac52a648\">Loading BokehJS ...</span>\n",
       "    </div>"
      ]
     },
     "metadata": {},
     "output_type": "display_data"
    },
    {
     "data": {
      "application/javascript": [
       "\n",
       "(function(global) {\n",
       "  function now() {\n",
       "    return new Date();\n",
       "  }\n",
       "\n",
       "  var force = true;\n",
       "\n",
       "  if (typeof (window._bokeh_onload_callbacks) === \"undefined\" || force === true) {\n",
       "    window._bokeh_onload_callbacks = [];\n",
       "    window._bokeh_is_loading = undefined;\n",
       "  }\n",
       "\n",
       "\n",
       "  \n",
       "  if (typeof (window._bokeh_timeout) === \"undefined\" || force === true) {\n",
       "    window._bokeh_timeout = Date.now() + 5000;\n",
       "    window._bokeh_failed_load = false;\n",
       "  }\n",
       "\n",
       "  var NB_LOAD_WARNING = {'data': {'text/html':\n",
       "     \"<div style='background-color: #fdd'>\\n\"+\n",
       "     \"<p>\\n\"+\n",
       "     \"BokehJS does not appear to have successfully loaded. If loading BokehJS from CDN, this \\n\"+\n",
       "     \"may be due to a slow or bad network connection. Possible fixes:\\n\"+\n",
       "     \"</p>\\n\"+\n",
       "     \"<ul>\\n\"+\n",
       "     \"<li>re-rerun `output_notebook()` to attempt to load from CDN again, or</li>\\n\"+\n",
       "     \"<li>use INLINE resources instead, as so:</li>\\n\"+\n",
       "     \"</ul>\\n\"+\n",
       "     \"<code>\\n\"+\n",
       "     \"from bokeh.resources import INLINE\\n\"+\n",
       "     \"output_notebook(resources=INLINE)\\n\"+\n",
       "     \"</code>\\n\"+\n",
       "     \"</div>\"}};\n",
       "\n",
       "  function display_loaded() {\n",
       "    if (window.Bokeh !== undefined) {\n",
       "      document.getElementById(\"c69d51ba-33b2-482a-8637-71a4ac52a648\").textContent = \"BokehJS successfully loaded.\";\n",
       "    } else if (Date.now() < window._bokeh_timeout) {\n",
       "      setTimeout(display_loaded, 100)\n",
       "    }\n",
       "  }\n",
       "\n",
       "  function run_callbacks() {\n",
       "    window._bokeh_onload_callbacks.forEach(function(callback) { callback() });\n",
       "    delete window._bokeh_onload_callbacks\n",
       "    console.info(\"Bokeh: all callbacks have finished\");\n",
       "  }\n",
       "\n",
       "  function load_libs(js_urls, callback) {\n",
       "    window._bokeh_onload_callbacks.push(callback);\n",
       "    if (window._bokeh_is_loading > 0) {\n",
       "      console.log(\"Bokeh: BokehJS is being loaded, scheduling callback at\", now());\n",
       "      return null;\n",
       "    }\n",
       "    if (js_urls == null || js_urls.length === 0) {\n",
       "      run_callbacks();\n",
       "      return null;\n",
       "    }\n",
       "    console.log(\"Bokeh: BokehJS not loaded, scheduling load and callback at\", now());\n",
       "    window._bokeh_is_loading = js_urls.length;\n",
       "    for (var i = 0; i < js_urls.length; i++) {\n",
       "      var url = js_urls[i];\n",
       "      var s = document.createElement('script');\n",
       "      s.src = url;\n",
       "      s.async = false;\n",
       "      s.onreadystatechange = s.onload = function() {\n",
       "        window._bokeh_is_loading--;\n",
       "        if (window._bokeh_is_loading === 0) {\n",
       "          console.log(\"Bokeh: all BokehJS libraries loaded\");\n",
       "          run_callbacks()\n",
       "        }\n",
       "      };\n",
       "      s.onerror = function() {\n",
       "        console.warn(\"failed to load library \" + url);\n",
       "      };\n",
       "      console.log(\"Bokeh: injecting script tag for BokehJS library: \", url);\n",
       "      document.getElementsByTagName(\"head\")[0].appendChild(s);\n",
       "    }\n",
       "  };var element = document.getElementById(\"c69d51ba-33b2-482a-8637-71a4ac52a648\");\n",
       "  if (element == null) {\n",
       "    console.log(\"Bokeh: ERROR: autoload.js configured with elementid 'c69d51ba-33b2-482a-8637-71a4ac52a648' but no matching script tag was found. \")\n",
       "    return false;\n",
       "  }\n",
       "\n",
       "  var js_urls = [\"https://cdn.pydata.org/bokeh/release/bokeh-0.12.4.min.js\", \"https://cdn.pydata.org/bokeh/release/bokeh-widgets-0.12.4.min.js\"];\n",
       "\n",
       "  var inline_js = [\n",
       "    function(Bokeh) {\n",
       "      Bokeh.set_log_level(\"info\");\n",
       "    },\n",
       "    \n",
       "    function(Bokeh) {\n",
       "      \n",
       "      document.getElementById(\"c69d51ba-33b2-482a-8637-71a4ac52a648\").textContent = \"BokehJS is loading...\";\n",
       "    },\n",
       "    function(Bokeh) {\n",
       "      console.log(\"Bokeh: injecting CSS: https://cdn.pydata.org/bokeh/release/bokeh-0.12.4.min.css\");\n",
       "      Bokeh.embed.inject_css(\"https://cdn.pydata.org/bokeh/release/bokeh-0.12.4.min.css\");\n",
       "      console.log(\"Bokeh: injecting CSS: https://cdn.pydata.org/bokeh/release/bokeh-widgets-0.12.4.min.css\");\n",
       "      Bokeh.embed.inject_css(\"https://cdn.pydata.org/bokeh/release/bokeh-widgets-0.12.4.min.css\");\n",
       "    }\n",
       "  ];\n",
       "\n",
       "  function run_inline_js() {\n",
       "    \n",
       "    if ((window.Bokeh !== undefined) || (force === true)) {\n",
       "      for (var i = 0; i < inline_js.length; i++) {\n",
       "        inline_js[i](window.Bokeh);\n",
       "      }if (force === true) {\n",
       "        display_loaded();\n",
       "      }} else if (Date.now() < window._bokeh_timeout) {\n",
       "      setTimeout(run_inline_js, 100);\n",
       "    } else if (!window._bokeh_failed_load) {\n",
       "      console.log(\"Bokeh: BokehJS failed to load within specified timeout.\");\n",
       "      window._bokeh_failed_load = true;\n",
       "    } else if (force !== true) {\n",
       "      var cell = $(document.getElementById(\"c69d51ba-33b2-482a-8637-71a4ac52a648\")).parents('.cell').data().cell;\n",
       "      cell.output_area.append_execute_result(NB_LOAD_WARNING)\n",
       "    }\n",
       "\n",
       "  }\n",
       "\n",
       "  if (window._bokeh_is_loading === 0) {\n",
       "    console.log(\"Bokeh: BokehJS loaded, going straight to plotting\");\n",
       "    run_inline_js();\n",
       "  } else {\n",
       "    load_libs(js_urls, function() {\n",
       "      console.log(\"Bokeh: BokehJS plotting callback run at\", now());\n",
       "      run_inline_js();\n",
       "    });\n",
       "  }\n",
       "}(this));"
      ]
     },
     "metadata": {},
     "output_type": "display_data"
    }
   ],
   "source": [
    "# -*- coding: utf-8 -*-\n",
    "%pylab inline\n",
    "\n",
    "\n",
    "# Importa librerías y define variables globales\n",
    "import glob\n",
    "import time\n",
    "import locale\n",
    "import calendar\n",
    "from datetime import datetime, date\n",
    "import decimal\n",
    "import math\n",
    "import pandas as pd\n",
    "import calendar\n",
    "import numpy as np\n",
    "import matplotlib.pyplot as plt\n",
    "from bokeh.io import output_file, show\n",
    "from bokeh.plotting import figure\n",
    "from bokeh.charts import Bar, output_file, show\n",
    "from bokeh.layouts import row\n",
    "from bokeh.models import ColumnDataSource, ranges, LabelSet\n",
    "from bokeh.palettes import PuBu\n",
    "from bokeh.io import show, output_notebook\n",
    "from bokeh.plotting import figure\n",
    "output_notebook()\n",
    "\n",
    "\n",
    "#Ojo: es clave establecer que el lenguaje local es el español\n",
    "\n",
    "from docx import Document\n",
    "from docx.enum.text import WD_ALIGN_PARAGRAPH\n",
    "from docx.text.run import Font, Run\n",
    "from docx.shared import Inches,Pt\n",
    "\n",
    "#locale.setlocale(locale.LC_ALL, 'esp_ESP')\n",
    "\n",
    "dias_en_anno = 365.2425"
   ]
  },
  {
   "cell_type": "code",
   "execution_count": 2,
   "metadata": {
    "collapsed": true
   },
   "outputs": [],
   "source": [
    "# esta función escribe la fecha en español\n",
    "def texto_fecha(fecha):\n",
    "    texto=str(fecha.day)+' de '+calendar.month_name[fecha.month]+' de '+str(fecha.year)\n",
    "    return texto"
   ]
  },
  {
   "cell_type": "code",
   "execution_count": 3,
   "metadata": {
    "collapsed": true
   },
   "outputs": [],
   "source": [
    "def truncar(entero):\n",
    "    x = int(entero * 1) / 1.0\n",
    "    return x"
   ]
  },
  {
   "cell_type": "code",
   "execution_count": 4,
   "metadata": {
    "collapsed": false
   },
   "outputs": [],
   "source": [
    "def mesesHastaJubilar(genero,edad):\n",
    "    if genero=='Masculino':\n",
    "        meses=round(12*max(65-edad,0),0)\n",
    "    else:\n",
    "        meses=round(12*max(60-edad,0),0)\n",
    "    return meses"
   ]
  },
  {
   "cell_type": "code",
   "execution_count": 5,
   "metadata": {
    "collapsed": false
   },
   "outputs": [],
   "source": [
    "# Acá se edita la ubicación donde están los datos de los futuros anexos\n",
    "data_fondo='/Users/ggoni/Desktop/archivoFondo.xlsx'\n",
    "df=pd.read_excel(data_fondo,sheets=1)\n",
    "df.fechaNacimiento = pd.to_datetime(df.fechaNacimiento)\n",
    "df.fechaContrato=pd.to_datetime(df.fechaContrato)"
   ]
  },
  {
   "cell_type": "code",
   "execution_count": 6,
   "metadata": {
    "collapsed": true
   },
   "outputs": [],
   "source": [
    "listaNombres=list(df.columns)"
   ]
  },
  {
   "cell_type": "code",
   "execution_count": 7,
   "metadata": {
    "collapsed": false
   },
   "outputs": [],
   "source": [
    "listaNombres=listaNombres+['escenario','fechaEscenario']"
   ]
  },
  {
   "cell_type": "code",
   "execution_count": 8,
   "metadata": {
    "collapsed": false
   },
   "outputs": [],
   "source": [
    "annos=list(range(2017,2028,1))\n",
    "fechas=[datetime(anno,5,31) for anno in annos]"
   ]
  },
  {
   "cell_type": "code",
   "execution_count": 9,
   "metadata": {
    "collapsed": false
   },
   "outputs": [],
   "source": [
    "\n",
    "df_c=pd.DataFrame(columns=listaNombres)"
   ]
  },
  {
   "cell_type": "code",
   "execution_count": 10,
   "metadata": {
    "collapsed": false
   },
   "outputs": [],
   "source": [
    "for idFecha,fecha in enumerate(fechas):\n",
    "    df_b=pd.DataFrame(columns=df.columns)\n",
    "    df_b=df_b.append(df)\n",
    "    df_b['escenario']=idFecha\n",
    "    df_b['fechaEscenario']=fecha  \n",
    "    df_c=df_c.append(df_b)"
   ]
  },
  {
   "cell_type": "code",
   "execution_count": 11,
   "metadata": {
    "collapsed": false
   },
   "outputs": [],
   "source": [
    "df_c.RBM=df_c.RBM.apply(round,0)\n",
    "df_c['Edad']=(df_c.fechaEscenario-df_c.fechaNacimiento).astype('timedelta64[D]')/365\n",
    "df_c['Edad_Truncada']=df_c.Edad.apply(truncar)\n",
    "df_c['Antiguedad']=(df_c.fechaEscenario-df_c.fechaContrato).astype('timedelta64[D]')/365\n",
    "df_c.Antiguedad=df_c.Antiguedad.apply(round,0)"
   ]
  },
  {
   "cell_type": "code",
   "execution_count": 12,
   "metadata": {
    "collapsed": false
   },
   "outputs": [],
   "source": [
    "df_c['mesesHastaJubilar']=np.vectorize(mesesHastaJubilar)(df_c.Genero,df_c.Edad)"
   ]
  },
  {
   "cell_type": "code",
   "execution_count": 13,
   "metadata": {
    "collapsed": false
   },
   "outputs": [],
   "source": [
    "\n",
    "df_c['PPA']=df_c.mesesHastaJubilar*df_c.RBM*0.115\n",
    "df_c.loc[df_c['alianza']!='SI','PPA']=0"
   ]
  },
  {
   "cell_type": "code",
   "execution_count": 14,
   "metadata": {
    "collapsed": false
   },
   "outputs": [],
   "source": [
    "#df.loc[df.ID == 103, 'FirstName'] = \"Matt\""
   ]
  },
  {
   "cell_type": "code",
   "execution_count": 15,
   "metadata": {
    "collapsed": false
   },
   "outputs": [],
   "source": [
    "df_c['IAS']=(df_c.Antiguedad+1)*df_c.RBM"
   ]
  },
  {
   "cell_type": "code",
   "execution_count": 16,
   "metadata": {
    "collapsed": false
   },
   "outputs": [],
   "source": [
    "df_c['pagoTotal']=df_c.PPA+df_c.IAS"
   ]
  },
  {
   "cell_type": "code",
   "execution_count": 17,
   "metadata": {
    "collapsed": false
   },
   "outputs": [],
   "source": [
    "tabla=pd.DataFrame(pd.pivot_table(df_c,values='pagoTotal',index=['fechaEscenario'],\n",
    "                                  fill_value=0,aggfunc=np.sum,columns=['Genero']))\n",
    "tabla.index=tabla.index.year\n",
    "tabla.loc[:,['Femenino','Masculino']] = 1./1e6*tabla.loc[:,['Femenino','Masculino']]\n",
    "tabla.Femenino=tabla.Femenino.apply(round,0)\n",
    "tabla.Masculino=tabla.Masculino.apply(round,0)"
   ]
  },
  {
   "cell_type": "code",
   "execution_count": 18,
   "metadata": {
    "collapsed": false
   },
   "outputs": [],
   "source": [
    "df_c.to_excel('detalleFondoTotal.xlsx',sheet_name='Detalle')"
   ]
  },
  {
   "cell_type": "code",
   "execution_count": 19,
   "metadata": {
    "collapsed": false
   },
   "outputs": [],
   "source": [
    "tabla_2=tabla=pd.DataFrame(pd.pivot_table(df_c,values='pagoTotal',index=['fechaEscenario','Genero'],\n",
    "                                  fill_value=0,aggfunc=np.sum))\n",
    "tabla_2= tabla_2.reset_index()\n",
    "\n",
    "tabla_2['fechaEscenario']=pd.to_datetime(tabla_2['fechaEscenario']).apply(lambda x: x.date())\n",
    "tabla_2['fechaEscenario']=pd.to_datetime(tabla_2['fechaEscenario']).apply(lambda x: x.year)\n",
    "tabla_2.pagoTotal=1e-6*tabla_2.pagoTotal\n",
    "titulo='Aportes por año y Género'\n",
    "titulo=titulo.decode('utf-8')\n",
    "\n",
    "p=Bar(tabla_2, 'fechaEscenario', values='pagoTotal', stack='Genero',color=['pink','blue'],title=titulo)\n",
    "p.title.align='center'\n",
    "p.xaxis.axis_label='Año'.decode('utf-8')\n",
    "p.xaxis.axis_label_text_align='left'\n",
    "p.yaxis.axis_label='Monto en mm$'\n",
    "#show(p)"
   ]
  },
  {
   "cell_type": "code",
   "execution_count": 20,
   "metadata": {
    "collapsed": false
   },
   "outputs": [],
   "source": [
    "tabla_3=tabla=pd.DataFrame(pd.pivot_table(df_c,values='pagoTotal',index=['fechaEscenario','Edad_Truncada'],\n",
    "                                  fill_value=0,aggfunc=np.sum,columns=['Genero']))\n",
    "tabla_3= tabla_3.reset_index()\n",
    "tabla_3['fechaEscenario']=pd.to_datetime(tabla_3['fechaEscenario']).apply(lambda x: x.date())\n",
    "tabla_3['fechaEscenario']=pd.to_datetime(tabla_3['fechaEscenario']).apply(lambda x: x.year)\n",
    "tabla_3.Femenino=1e-6*tabla_3.Femenino\n",
    "tabla_3.Masculino=1e-6*tabla_3.Masculino\n",
    "tabla_3.to_excel('resumenFondoTotal.xlsx',sheet_name='PorEdad')"
   ]
  },
  {
   "cell_type": "code",
   "execution_count": null,
   "metadata": {
    "collapsed": true
   },
   "outputs": [],
   "source": []
  }
 ],
 "metadata": {
  "kernelspec": {
   "display_name": "Python 2",
   "language": "python",
   "name": "python2"
  },
  "language_info": {
   "codemirror_mode": {
    "name": "ipython",
    "version": 2
   },
   "file_extension": ".py",
   "mimetype": "text/x-python",
   "name": "python",
   "nbconvert_exporter": "python",
   "pygments_lexer": "ipython2",
   "version": "2.7.13"
  }
 },
 "nbformat": 4,
 "nbformat_minor": 2
}
