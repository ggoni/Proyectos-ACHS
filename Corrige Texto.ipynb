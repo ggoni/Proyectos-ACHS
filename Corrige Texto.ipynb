{
 "cells": [
  {
   "cell_type": "code",
   "execution_count": null,
   "metadata": {
    "collapsed": true
   },
   "outputs": [],
   "source": [
    "\n",
    "# coding: utf-8\n",
    "\n",
    "# In[280]:\n",
    "\n",
    "\n",
    "\n",
    "get_ipython().magic(u'pylab inline')\n",
    "import re\n",
    "import pandas as pd\n",
    "\n",
    "\n",
    "# In[281]:\n",
    "\n",
    "def separaEnesimoEspacio(a,n):\n",
    "    res=\"\".join(a.split(\" \",n)[n:])+\"-\"+\" \".join(a.split(\" \",n)[:n])\n",
    "    return res\n",
    "\n",
    "\n",
    "# In[282]:\n",
    "\n",
    "archivo=\"D:\\\\Mis Documentos\\\\12 Python Scripts\\\\nombresSAP.xlsx\"\n",
    "\n",
    "\n",
    "# In[283]:\n",
    "\n",
    "df=pd.read_excel(archivo,sheets=1)\n",
    "\n",
    "\n",
    "# In[284]:\n",
    "\n",
    "df['nombre2']=[separaEnesimoEspacio(i,2) for i in df.nombre.values]\n",
    "\n",
    "\n",
    "# In[285]:\n",
    "\n",
    "df['Nombres'] = df.nombre2.str.split('-').str.get(1)\n",
    "df['Apellidos'] = df.nombre2.str.split('-').str.get(0)\n",
    "\n",
    "\n",
    "# In[286]:\n",
    "\n",
    "pd.DataFrame.to_excel(df,\"D:\\\\Mis Documentos\\\\12 Python Scripts\\\\nombresSAPregularizados.xlsx\")\n",
    "\n",
    "\n",
    "# In[ ]:\n",
    "\n"
   ]
  }
 ],
 "metadata": {
  "anaconda-cloud": {},
  "kernelspec": {
   "display_name": "Python [conda root]",
   "language": "python",
   "name": "conda-root-py"
  },
  "language_info": {
   "codemirror_mode": {
    "name": "ipython",
    "version": 2
   },
   "file_extension": ".py",
   "mimetype": "text/x-python",
   "name": "python",
   "nbconvert_exporter": "python",
   "pygments_lexer": "ipython2",
   "version": "2.7.13"
  }
 },
 "nbformat": 4,
 "nbformat_minor": 2
}
